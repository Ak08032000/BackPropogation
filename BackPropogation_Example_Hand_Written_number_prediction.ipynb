{
  "nbformat": 4,
  "nbformat_minor": 0,
  "metadata": {
    "colab": {
      "provenance": [],
      "authorship_tag": "ABX9TyNR9c7ilhzPgHwj2OPxfo9H",
      "include_colab_link": true
    },
    "kernelspec": {
      "name": "python3",
      "display_name": "Python 3"
    },
    "language_info": {
      "name": "python"
    },
    "accelerator": "GPU",
    "gpuClass": "standard"
  },
  "cells": [
    {
      "cell_type": "markdown",
      "metadata": {
        "id": "view-in-github",
        "colab_type": "text"
      },
      "source": [
        "<a href=\"https://colab.research.google.com/github/Ak08032000/BackPropogation/blob/master/BackPropogation_Example_Hand_Written_number_prediction.ipynb\" target=\"_parent\"><img src=\"https://colab.research.google.com/assets/colab-badge.svg\" alt=\"Open In Colab\"/></a>"
      ]
    },
    {
      "cell_type": "markdown",
      "source": [
        "#Example of BackPropogation.\n",
        "Here we are going make a model which will predict the hand written numbers using backpropogation. First we will import all the libraries like tensorflow, keras, matplotlib. Then we will import the dataset mnist and devide all the inputs into training image, training lable, testing image and testing lable in which in the training part there will be 60000 set of images and for the testing part there will be 10000 set of images. Then will will normalize the images by dividing it by 255. Then we will start making the model in which there will be 1 input layer 4 hidden layers and 1 output layer. Then we will comple the model using the 'adam' optimizer and sparse_categorical_crossentropy loss function. \n",
        "\n",
        "#What is BackPropogation?\n",
        "Backpropagation, short for \"backward propagation of errors,\" is a widely used algorithm in machine learning for training artificial neural networks. It is used to calculate the gradient of the loss function with respect to the weights of the network, which is then used to update the weights in the direction that minimizes the loss function.\n",
        "\n",
        "The backpropagation algorithm works by propagating the error from the output layer back to the input layer of the neural network. At each layer, the error is split and distributed to the neurons in the previous layer, proportional to the contribution of each neuron's output to the overall error. The derivative of the activation function is also taken into account to calculate the gradient of the error with respect to the weights.\n",
        "\n",
        "Once the gradients are calculated, they are used to update the weights of the neural network through a process called gradient descent. The weights are adjusted in the opposite direction of the gradient, scaled by a learning rate hyperparameter, until the loss function is minimized.\n",
        "\n",
        "Backpropagation is a powerful algorithm that has enabled the development of deep neural networks and has been instrumental in the success of many applications of machine learning, such as image recognition, natural language processing, and speech recognition.\n",
        "\n",
        "#What is tensorflow?\n",
        "TensorFlow is an open-source software library for numerical computation and machine learning, developed by the Google Brain team. It was first released in 2015 and has since become one of the most popular machine learning frameworks, widely used for developing and training machine learning models in a variety of fields, including computer vision, natural language processing, and robotics.\n",
        "\n",
        "#What is keras?\n",
        "Keras is an open-source high-level neural network API, written in Python and capable of running on top of TensorFlow, Theano, and other popular deep learning frameworks. Keras was developed to make it easier to build and train deep learning models by providing a user-friendly and intuitive interface.\n",
        "\n",
        "#What is matplotlib?\n",
        "Matplotlib is a popular open-source data visualization library for Python. It provides a wide range of tools for creating static, animated, and interactive visualizations in Python. Matplotlib was originally developed by John D. Hunter in 2003, and has since become one of the most widely used data visualization libraries in the Python ecosystem."
      ],
      "metadata": {
        "id": "KzwPEl5jbwX0"
      }
    },
    {
      "cell_type": "code",
      "execution_count": 1,
      "metadata": {
        "id": "Xoi-phwmJERe"
      },
      "outputs": [],
      "source": [
        "import tensorflow as tf\n",
        "from tensorflow.keras import datasets, layers, models\n",
        "from tensorflow.keras.layers import Dense\n",
        "import matplotlib.pyplot as plt"
      ]
    },
    {
      "cell_type": "markdown",
      "source": [
        "#Importing the dataset\n",
        "Here we are going to import the dataset mnist and devide it in to training data and test data.\n",
        "\n",
        "#What is mnist?\n",
        "MNIST (Modified National Institute of Standards and Technology database) is a large dataset of handwritten digits that is commonly used in the field of machine learning for training and testing image recognition algorithms. The MNIST dataset consists of 60,000 training images and 10,000 test images, each of which is a grayscale image with a resolution of 28x28 pixels.\n",
        "\n",
        "#What is load_data() do?\n",
        "'load_ddata()'is a method in the Keras library that is used to load the MNIST dataset. The method returns two tuples representing the training and test sets, respectively."
      ],
      "metadata": {
        "id": "imrikyIug1ai"
      }
    },
    {
      "cell_type": "code",
      "source": [
        "(train_images, train_labels), (test_images, test_labels) = datasets.mnist.load_data()"
      ],
      "metadata": {
        "id": "OUN2XeAWP17i",
        "colab": {
          "base_uri": "https://localhost:8080/"
        },
        "outputId": "1ac80055-36b4-470d-ad80-3c769b09f01e"
      },
      "execution_count": 2,
      "outputs": [
        {
          "output_type": "stream",
          "name": "stdout",
          "text": [
            "Downloading data from https://storage.googleapis.com/tensorflow/tf-keras-datasets/mnist.npz\n",
            "11490434/11490434 [==============================] - 1s 0us/step\n"
          ]
        }
      ]
    },
    {
      "cell_type": "code",
      "source": [
        "train_images.shape"
      ],
      "metadata": {
        "colab": {
          "base_uri": "https://localhost:8080/"
        },
        "id": "lDL1l1etrogd",
        "outputId": "1b7bf043-9299-43aa-ad8e-32cf21e08b57"
      },
      "execution_count": 3,
      "outputs": [
        {
          "output_type": "execute_result",
          "data": {
            "text/plain": [
              "(60000, 28, 28)"
            ]
          },
          "metadata": {},
          "execution_count": 3
        }
      ]
    },
    {
      "cell_type": "code",
      "source": [
        "test_images.shape"
      ],
      "metadata": {
        "colab": {
          "base_uri": "https://localhost:8080/"
        },
        "id": "ABZhJgaerv14",
        "outputId": "1a8f12ff-7fce-4e49-950c-b17ba8062261"
      },
      "execution_count": 4,
      "outputs": [
        {
          "output_type": "execute_result",
          "data": {
            "text/plain": [
              "(10000, 28, 28)"
            ]
          },
          "metadata": {},
          "execution_count": 4
        }
      ]
    },
    {
      "cell_type": "markdown",
      "source": [
        "#Noramlizing dataset\n",
        "Dividing image data of size 28x28 by 255 is a common technique used for normalizing pixel values to be in the range of 0 to 1. This technique is used to ensure that the data is scaled consistently across all images in the dataset, which can improve the performance of machine learning algorithms that rely on numerical stability and feature scaling.In the MNIST dataset, the pixel values of the images are represented as integers between 0 and 255, where 0 represents black and 255 represents white. By dividing the pixel values by 255, we rescale the pixel values to be in the range of 0 to 1, which makes it easier to work with the data and ensures that the pixel values are consistent across all images in the dataset.\n",
        "\n",
        "#What is Normalization?\n",
        "Normalization is a common technique used in machine learning to rescale input data to ensure that all features are on a similar scale. The goal of normalization is to make the data consistent and well-scaled, which can improve the performance of machine learning algorithms that rely on numerical stability and feature scaling."
      ],
      "metadata": {
        "id": "YcfPX0IiiAkj"
      }
    },
    {
      "cell_type": "code",
      "source": [
        "train_images, test_images = train_images/255, test_images/255 #Normalisation"
      ],
      "metadata": {
        "id": "5ENWvdDYr8Do"
      },
      "execution_count": 5,
      "outputs": []
    },
    {
      "cell_type": "code",
      "source": [
        "train_images[0][5]"
      ],
      "metadata": {
        "colab": {
          "base_uri": "https://localhost:8080/"
        },
        "id": "hhbXXZEoXSYv",
        "outputId": "6934e831-7006-4b1c-f19a-f455c2d18b1e"
      },
      "execution_count": 6,
      "outputs": [
        {
          "output_type": "execute_result",
          "data": {
            "text/plain": [
              "array([0.        , 0.        , 0.        , 0.        , 0.        ,\n",
              "       0.        , 0.        , 0.        , 0.        , 0.        ,\n",
              "       0.        , 0.        , 0.01176471, 0.07058824, 0.07058824,\n",
              "       0.07058824, 0.49411765, 0.53333333, 0.68627451, 0.10196078,\n",
              "       0.65098039, 1.        , 0.96862745, 0.49803922, 0.        ,\n",
              "       0.        , 0.        , 0.        ])"
            ]
          },
          "metadata": {},
          "execution_count": 6
        }
      ]
    },
    {
      "cell_type": "markdown",
      "source": [
        "#Making layers of the model\n",
        "First we will use sequantial which is a class in the Keras library that provides a way to create a linear stack of layers in a neural network. Then we will add layers in which the first layer or the input layer then there are all the hidden layer and at the end there is thevoutput layer. In this model all the hiden layers uses relu activation function and the outpu uses softmax activation function.\n",
        "\n",
        "#What is Sequential()?\n",
        "Sequential is a class in the Keras library that provides a way to create a linear stack of layers in a neural network. A neural network consists of multiple layers, each of which performs a specific computation on the input data. The Sequential class allows you to define the layers of a neural network in a simple and intuitive way, by specifying a sequence of layers that are applied to the input data in order.\n",
        "\n",
        "#What is Flatten used for?\n",
        "In Keras, flatten() is a method that can be called on a tensor or layer object, which is used to convert a multi-dimensional tensor into a one-dimensional array. The flatten() method is commonly used in deep learning models, particularly in the input layer, where the input data may have multiple dimensions, such as image data with height, width, and channels.\n",
        "\n",
        "#What is Dense layers?\n",
        "In Keras, Dense is a type of layer that represents a fully connected layer in a neural network. A fully connected layer is a type of layer in which every neuron in the layer is connected to every neuron in the previous layer. Each connection between neurons has a weight associated with it, which is learned during the training process.\n",
        "\n",
        "#What is relu?\n",
        "ReLU stands for Rectified Linear Unit, which is an activation function commonly used in deep learning models. The ReLU function is a simple but effective non-linear activation function that applies the function f(x) = max(0, x) to the output of a neuron. In other words, if the input to a ReLU neuron is positive, the neuron outputs the input value, but if the input is negative, the neuron outputs zero. This results in a simple thresholding operation that helps to introduce non-linearity into the neural network, allowing it to learn complex patterns in the data.\n",
        "\n",
        "#What is softmax?\n",
        "Softmax is an activation function that is commonly used in the output layer of neural networks for multi-class classification problems. The softmax function converts the output of a neural network into a probability distribution over the different possible classes. In other words, the softmax function exponentiates the inputs and then normalizes them by the sum of the exponentiated inputs. This ensures that the output probabilities sum to 1, and that each probability is between 0 and 1."
      ],
      "metadata": {
        "id": "v7WjM_DxjAQS"
      }
    },
    {
      "cell_type": "code",
      "source": [
        "model = models.Sequential()\n",
        "model.add(layers.Flatten(input_shape=(28,28,1)))\n",
        "\n",
        "model.add(Dense(50, activation='relu'))\n",
        "model.add(Dense(40, activation='relu'))\n",
        "model.add(Dense(30, activation='relu'))\n",
        "model.add(Dense(20, activation='relu'))\n",
        "\n",
        "model.add(Dense(10, activation='softmax'))"
      ],
      "metadata": {
        "id": "f4BMXhfUXVAr"
      },
      "execution_count": 7,
      "outputs": []
    },
    {
      "cell_type": "code",
      "source": [
        "model.summary()"
      ],
      "metadata": {
        "colab": {
          "base_uri": "https://localhost:8080/"
        },
        "id": "b50pbYt1YARr",
        "outputId": "cf5c0436-4fa1-43ee-eb14-ebc0f4929e77"
      },
      "execution_count": 8,
      "outputs": [
        {
          "output_type": "stream",
          "name": "stdout",
          "text": [
            "Model: \"sequential\"\n",
            "_________________________________________________________________\n",
            " Layer (type)                Output Shape              Param #   \n",
            "=================================================================\n",
            " flatten (Flatten)           (None, 784)               0         \n",
            "                                                                 \n",
            " dense (Dense)               (None, 50)                39250     \n",
            "                                                                 \n",
            " dense_1 (Dense)             (None, 40)                2040      \n",
            "                                                                 \n",
            " dense_2 (Dense)             (None, 30)                1230      \n",
            "                                                                 \n",
            " dense_3 (Dense)             (None, 20)                620       \n",
            "                                                                 \n",
            " dense_4 (Dense)             (None, 10)                210       \n",
            "                                                                 \n",
            "=================================================================\n",
            "Total params: 43,350\n",
            "Trainable params: 43,350\n",
            "Non-trainable params: 0\n",
            "_________________________________________________________________\n"
          ]
        }
      ]
    },
    {
      "cell_type": "markdown",
      "source": [
        "#What is compile() do?\n",
        "The compile() method is used to configure the learning process of a neural network model. When you call compile() on a Keras model, you specify several key parameters that control how the model will be trained:\n",
        "\n",
        "optimizer: This specifies the optimization algorithm that will be used to update the weights of the model during training, such as stochastic gradient descent (SGD), Adam, or RMSprop.\n",
        "\n",
        "loss: This specifies the loss function that will be used to measure the error of the model during training. The loss function is typically chosen based on the type of problem you are trying to solve, such as mean squared error (MSE) for regression problems or categorical cross-entropy for multi-class classification problems.\n",
        "\n",
        "metrics: This specifies the evaluation metrics that will be used to monitor the performance of the model during training and testing. These metrics are typically chosen based on the type of problem you are trying to solve, such as accuracy for classification problems or mean squared error (MSE) for regression problems."
      ],
      "metadata": {
        "id": "YiR_cV2XnFig"
      }
    },
    {
      "cell_type": "code",
      "source": [
        "model.compile(optimizer='adam',\n",
        "              loss='sparse_categorical_crossentropy',\n",
        "              metrics=['accuracy'])"
      ],
      "metadata": {
        "id": "whCJbfmpZR96"
      },
      "execution_count": 9,
      "outputs": []
    },
    {
      "cell_type": "markdown",
      "source": [
        "#Training the network\n",
        "The fit() method is used to train a neural network model on a dataset. When you call fit() on a Keras model, you specify the training data, validation data (optional), batch size, number of epochs, and other key parameters that control the training process."
      ],
      "metadata": {
        "id": "6Ot-NGmBo_S2"
      }
    },
    {
      "cell_type": "code",
      "source": [
        "history = model.fit(train_images, train_labels, epochs=10,\n",
        "          validation_data=(test_images, test_labels))"
      ],
      "metadata": {
        "colab": {
          "base_uri": "https://localhost:8080/"
        },
        "id": "65qRemTNZni9",
        "outputId": "b6d3aac9-4a93-442e-ecd0-5772f4c14251"
      },
      "execution_count": 10,
      "outputs": [
        {
          "output_type": "stream",
          "name": "stdout",
          "text": [
            "Epoch 1/10\n",
            "1875/1875 [==============================] - 14s 4ms/step - loss: 0.3340 - accuracy: 0.8985 - val_loss: 0.1765 - val_accuracy: 0.9463\n",
            "Epoch 2/10\n",
            "1875/1875 [==============================] - 7s 4ms/step - loss: 0.1423 - accuracy: 0.9578 - val_loss: 0.1340 - val_accuracy: 0.9597\n",
            "Epoch 3/10\n",
            "1875/1875 [==============================] - 7s 4ms/step - loss: 0.1079 - accuracy: 0.9674 - val_loss: 0.1138 - val_accuracy: 0.9641\n",
            "Epoch 4/10\n",
            "1875/1875 [==============================] - 7s 4ms/step - loss: 0.0891 - accuracy: 0.9726 - val_loss: 0.1109 - val_accuracy: 0.9666\n",
            "Epoch 5/10\n",
            "1875/1875 [==============================] - 6s 3ms/step - loss: 0.0742 - accuracy: 0.9767 - val_loss: 0.1254 - val_accuracy: 0.9633\n",
            "Epoch 6/10\n",
            "1875/1875 [==============================] - 8s 4ms/step - loss: 0.0627 - accuracy: 0.9804 - val_loss: 0.1049 - val_accuracy: 0.9706\n",
            "Epoch 7/10\n",
            "1875/1875 [==============================] - 8s 4ms/step - loss: 0.0570 - accuracy: 0.9825 - val_loss: 0.1161 - val_accuracy: 0.9696\n",
            "Epoch 8/10\n",
            "1875/1875 [==============================] - 6s 3ms/step - loss: 0.0510 - accuracy: 0.9839 - val_loss: 0.1121 - val_accuracy: 0.9716\n",
            "Epoch 9/10\n",
            "1875/1875 [==============================] - 7s 4ms/step - loss: 0.0475 - accuracy: 0.9848 - val_loss: 0.1262 - val_accuracy: 0.9682\n",
            "Epoch 10/10\n",
            "1875/1875 [==============================] - 6s 3ms/step - loss: 0.0419 - accuracy: 0.9861 - val_loss: 0.1096 - val_accuracy: 0.9713\n"
          ]
        }
      ]
    },
    {
      "cell_type": "markdown",
      "source": [
        "#Graphical representation of results"
      ],
      "metadata": {
        "id": "k8AYXUe2q88c"
      }
    },
    {
      "cell_type": "code",
      "source": [
        "plt.plot(history.history['accuracy'], label='accuracy')\n",
        "plt.plot(history.history['val_accuracy'], label='val_accuracy')\n",
        "plt.xlabel('Epoch')\n",
        "plt.ylabel('Accuracy')\n",
        "plt.legend(loc='lower right')"
      ],
      "metadata": {
        "colab": {
          "base_uri": "https://localhost:8080/",
          "height": 466
        },
        "id": "3bmCZOy2ZryG",
        "outputId": "dccda1fa-82e5-43c2-f358-0d27e70ac065"
      },
      "execution_count": 11,
      "outputs": [
        {
          "output_type": "execute_result",
          "data": {
            "text/plain": [
              "<matplotlib.legend.Legend at 0x7fa4f0e554f0>"
            ]
          },
          "metadata": {},
          "execution_count": 11
        },
        {
          "output_type": "display_data",
          "data": {
            "text/plain": [
              "<Figure size 640x480 with 1 Axes>"
            ],
            "image/png": "[encoded data removed]"
          },
          "metadata": {}
        }
      ]
    }
  ]
}